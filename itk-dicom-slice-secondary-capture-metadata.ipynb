{
 "cells": [
  {
   "cell_type": "markdown",
   "id": "203994bb-419c-4a89-9109-bef82f5ca5b6",
   "metadata": {},
   "source": [
    "# ITK 5.4.0 DICOM Slice Secondary Capture Metadata\n",
    "\n",
    "This example demonstrates improved DICOM metadata handling in ITK 5.4.0. For more information, see the [ITK 5.4.0 release notes](https://docs.itk.org/en/latest/releases/5.4.0.html).\n",
    "\n",
    "We read an RGB slice of the Visible Human Male that was generated and [stored on the NIH Imaging Data Commons archive](https://portal.imaging.datacommons.cancer.gov/explore/filters/?Modality_op=OR&Modality=XC&collection_id=nlm_visible_human_project\n",
    ")."
   ]
  },
  {
   "cell_type": "code",
   "execution_count": 1,
   "id": "5e41f7ff-81f3-4e25-a5e0-c7e9d6a930b3",
   "metadata": {},
   "outputs": [],
   "source": [
    "import itk\n",
    "\n",
    "import pooch"
   ]
  },
  {
   "cell_type": "code",
   "execution_count": 2,
   "id": "152e30b3-e9fe-4aa4-a8cf-14be482d5202",
   "metadata": {},
   "outputs": [],
   "source": [
    "image_filepath = pooch.retrieve('https://s3.amazonaws.com/idc-open-data/4aaf9181-fb6a-4a4c-bf49-d1eb9ed4a385/fbc89e1c-29c4-48cf-89fd-53b7c1dc1488.dcm',\n",
    "                                fname='visible-male-rgb-slice.dcm',\n",
    "                                known_hash='38c21654e7cdaf2f69e64611a74184cf4992aebeb143af5fe704a881d3a18a27',\n",
    "                                progressbar=True)"
   ]
  },
  {
   "cell_type": "code",
   "execution_count": 3,
   "id": "042b4d95-1b26-401c-bde6-21f8ac45492f",
   "metadata": {},
   "outputs": [],
   "source": [
    "image = itk.imread(image_filepath)\n",
    "\n",
    "spacing = itk.spacing(image)\n",
    "\n",
    "# Prior to ITK 5.4.0, spacing metadata was not read, and the pixel spacing was the default, 1.0.\n",
    "assert spacing[0] == 0.33"
   ]
  }
 ],
 "metadata": {
  "kernelspec": {
   "display_name": "Python 3 (ipykernel)",
   "language": "python",
   "name": "python3"
  },
  "language_info": {
   "codemirror_mode": {
    "name": "ipython",
    "version": 3
   },
   "file_extension": ".py",
   "mimetype": "text/x-python",
   "name": "python",
   "nbconvert_exporter": "python",
   "pygments_lexer": "ipython3",
   "version": "3.13.1"
  }
 },
 "nbformat": 4,
 "nbformat_minor": 5
}
